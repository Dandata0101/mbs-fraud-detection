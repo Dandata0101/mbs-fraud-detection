{
 "cells": [
  {
   "cell_type": "code",
   "execution_count": null,
   "metadata": {},
   "outputs": [],
   "source": [
    "from imblearn.over_sampling import SMOTE\n",
    "from imblearn.over_sampling import BorderlineSMOTE\n",
    "from imblearn.pipeline import Pipeline \n",
    "from sklearn.model_selection import train_test_split\n",
    "from sklearn.linear_model import LogisticRegression\n",
    "from sklearn.metrics import classification_report\n",
    "df4\n",
    "# Assuming your DataFrame and target variable setup\n",
    "x4 = df4.drop('Class', axis=1)\n",
    "y4 = df4['Class']\n",
    "\n",
    "X_train, X_test, y_train, y_test = train_test_split(x4, y4, test_size=0.4, random_state=0)\n",
    "\n",
    "\n",
    "lr = LogisticRegression(max_iter=1000)\n",
    "lr.fit(X_train, y_train)\n",
    "predicted1 = lr.predict(X_test)\n",
    "\n",
    "#r1 = (classification_report(y_test, predicted1,output_dict=True))\n",
    "r1 = (classification_report(y_test, predicted1))\n",
    "print(r1)\n",
    "\n",
    "\n",
    "resampling = SMOTE()\n",
    "lr = LogisticRegression(max_iter=1000)\n",
    "\n",
    "pipeline = Pipeline([('SMOTE', resampling), ('Logistic Regression', lr)])\n",
    "pipeline.fit(X_train, y_train)\n",
    "predicted2 = pipeline.predict(X_test)\n",
    "\n",
    "r2 = print(classification_report(y_test, predicted2))\n",
    "\n",
    "resampling = BorderlineSMOTE(kind='borderline-1')\n",
    "lr = LogisticRegression(max_iter=1000)\n",
    "\n",
    "pipeline = Pipeline([('BSMOTE', resampling), ('Logistic Regression', lr)])\n",
    "pipeline.fit(X_train, y_train)\n",
    "predicted3 = pipeline.predict(X_test)\n",
    "\n",
    "r3 = (classification_report(y_test, predicted3))\n",
    "print(r3)\n",
    "\n",
    "###HOW TO ACCESS THE CLASSIFICATION REPORT SCORES\n",
    "r1_f1_score = round((classification_report(y_test, predicted1,output_dict=True))['macro avg']['f1-score'],2)\n",
    "r2_f1_score = round((classification_report(y_test, predicted2,output_dict=True))['macro avg']['f1-score'],2)\n",
    "r3_f1_score = round((classification_report(y_test, predicted3,output_dict=True))['macro avg']['f1-score'],2)\n",
    "\n",
    "print(f'r1_f1_score:{r1_f1_score}\\nr2_f1_score:{r2_f1_score}\\nr3_f1_score:{r3_f1_score}')"
   ]
  }
 ],
 "metadata": {
  "language_info": {
   "name": "python"
  }
 },
 "nbformat": 4,
 "nbformat_minor": 2
}
