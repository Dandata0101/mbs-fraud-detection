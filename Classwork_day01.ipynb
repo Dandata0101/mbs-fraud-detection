{
 "cells": [
  {
   "cell_type": "markdown",
   "metadata": {},
   "source": [
    "# Day 1 Enron Text mining exercise\n",
    "[![Author - DanRamirez](https://img.shields.io/badge/Author-DanRamirez-2ea44f?style=for-the-badge)](https://github.com/Dandata0101)\n",
    "![Python - Version](https://img.shields.io/badge/PYTHON-3.11-red?style=for-the-badge&logo=python&logoColor=white)\n",
    "[![Project Repo](https://img.shields.io/badge/Our_Project_Repo-Visit-blue?style=for-the-badge&logo=github&logoColor=white)](https://github.com/Dandata0101/mbs-fraud-detection)\n",
    "\n",
    "## Enron Corporation: A Brief History\n",
    "\n",
    "### Rise\n",
    "- **1985-1990**: Formed from the merger of Houston Natural Gas and InterNorth, with Kenneth Lay as CEO. Initially, it operated gas pipelines.\n",
    "- **1990s**: Diversified into electricity trading, water, and broadband services, pioneering energy-related financial products. Named \"America's Most Innovative Company\" by Fortune magazine from 1996 to 2001.\n",
    "\n",
    "### Fall\n",
    "- **Accounting Scandals**: Practices of hiding debts and inflating profits through special purpose entities led to financial misrepresentation.\n",
    "- **Bankruptcy**: Filed on December 2, 2001, it was then the largest bankruptcy in U.S. history, leading to significant shareholder and employee losses.\n",
    "- **Legal Repercussions**: Led to the Sarbanes-Oxley Act of 2002, aimed at increasing financial transparency in publicly traded companies. High-ranking executives, including Jeffrey Skilling and Andrew Fastow, were convicted of fraud and conspiracy.\n",
    "\n",
    "### Impact\n",
    "Enron's collapse underscored the critical need for corporate governance, ethics, and regulatory oversight, serving as a cautionary tale in the business world.\n",
    "\n",
    "## Enron Email Analysis\n",
    "\n",
    "This Python script is designed to perform an analysis on a dataset of emails, specifically focusing on identifying and visualizing emails related to selling Enron stock. The analysis is carried out through several key functions, each encapsulating a unique part of the process.\n",
    "\n",
    "### Features\n",
    "\n",
    "- **Filtering Emails**: The script filters emails containing specific search terms related to selling Enron stock, using pandas for data manipulation.\n",
    "- **Unique Senders**: Identifies unique senders within the filtered emails, showcasing the variety of sources discussing the search terms.\n",
    "- **Flagging Emails**: Adds a flag to the dataset for emails that match the search criteria, aiding in quick identification of relevant data points.\n",
    "- **Rich Display**: Utilizes the `rich` library to display filtered emails and statistics in a visually appealing manner within the console, including a detailed table of the first few filtered emails and a summary of flagged emails.\n",
    "- **Word Cloud Visualization**: Generates a word cloud from the content of the filtered emails, providing a graphical representation of the most frequent terms related to the topic of interest.\n",
    "\n",
    "### Usage\n",
    "\n",
    "To run the script, ensure you have a CSV file containing your email dataset with at least the following columns: `Message-ID`, `From`, `To`, `Date`, and `clean_content`. Adjust the `csv_file_path` and `search_terms` variables as necessary to match your dataset and analysis focus.\n",
    "\n",
    "### Installation\n",
    "\n",
    "This script requires Python 3.x and the following libraries: `pandas`, `rich`, `matplotlib`,  `wordcloud` and `openai` You can install these dependencies using `pip`:\n",
    "\n",
    "```sh\n",
    "pip install pandas rich matplotlib wordcloud openai\n",
    "\n"
   ]
  },
  {
   "cell_type": "markdown",
   "metadata": {},
   "source": [
    "# Data file import"
   ]
  },
  {
   "cell_type": "code",
   "execution_count": 2,
   "metadata": {},
   "outputs": [],
   "source": [
    "import pandas as pd\n",
    "import os\n",
    "\n",
    "# Define file path\n",
    "current_directory = os.getcwd()\n",
    "csv_file_path = current_directory+ '/01-data/FD_01_enron.csv'\n",
    "\n",
    "# Read CSV file into DataFrame\n",
    "df = pd.read_csv(csv_file_path)"
   ]
  },
  {
   "cell_type": "code",
   "execution_count": 4,
   "metadata": {},
   "outputs": [
    {
     "data": {
      "text/html": [
       "<pre style=\"white-space:pre;overflow-x:auto;line-height:normal;font-family:Menlo,'DejaVu Sans Mono',consolas,'Courier New',monospace\"><span style=\"font-weight: bold; text-decoration: underline\">Unique Senders in Filtered Emails:</span>\n",
       "</pre>\n"
      ],
      "text/plain": [
       "\u001b[1;4mUnique Senders in Filtered Emails:\u001b[0m\n"
      ]
     },
     "metadata": {},
     "output_type": "display_data"
    },
    {
     "data": {
      "text/html": [
       "<pre style=\"white-space:pre;overflow-x:auto;line-height:normal;font-family:Menlo,'DejaVu Sans Mono',consolas,'Courier New',monospace\">- <span style=\"font-weight: bold\">(</span><span style=\"color: #008000; text-decoration-color: #008000\">'sarah.palmer@enron.com'</span><span style=\"font-weight: bold\">)</span>\n",
       "</pre>\n"
      ],
      "text/plain": [
       "- \u001b[1m(\u001b[0m\u001b[32m'sarah.palmer@enron.com'\u001b[0m\u001b[1m)\u001b[0m\n"
      ]
     },
     "metadata": {},
     "output_type": "display_data"
    },
    {
     "data": {
      "text/html": [
       "<pre style=\"white-space:pre;overflow-x:auto;line-height:normal;font-family:Menlo,'DejaVu Sans Mono',consolas,'Courier New',monospace\"><span style=\"font-weight: bold; text-decoration: underline\">Flagged Emails Count:</span>\n",
       "</pre>\n"
      ],
      "text/plain": [
       "\u001b[1;4mFlagged Emails Count:\u001b[0m\n"
      ]
     },
     "metadata": {},
     "output_type": "display_data"
    },
    {
     "data": {
      "text/html": [
       "<pre style=\"white-space:pre;overflow-x:auto;line-height:normal;font-family:Menlo,'DejaVu Sans Mono',consolas,'Courier New',monospace\">┏━━━━━━┳━━━━━━━┓\n",
       "┃<span style=\"color: #800080; text-decoration-color: #800080; font-weight: bold\"> Flag </span>┃<span style=\"color: #800080; text-decoration-color: #800080; font-weight: bold\"> Count </span>┃\n",
       "┡━━━━━━╇━━━━━━━┩\n",
       "│<span style=\"color: #7f7f7f; text-decoration-color: #7f7f7f\"> 0    </span>│  2089 │\n",
       "│<span style=\"color: #7f7f7f; text-decoration-color: #7f7f7f\"> 1    </span>│     1 │\n",
       "└──────┴───────┘\n",
       "</pre>\n"
      ],
      "text/plain": [
       "┏━━━━━━┳━━━━━━━┓\n",
       "┃\u001b[1;35m \u001b[0m\u001b[1;35mFlag\u001b[0m\u001b[1;35m \u001b[0m┃\u001b[1;35m \u001b[0m\u001b[1;35mCount\u001b[0m\u001b[1;35m \u001b[0m┃\n",
       "┡━━━━━━╇━━━━━━━┩\n",
       "│\u001b[2m \u001b[0m\u001b[2m0   \u001b[0m\u001b[2m \u001b[0m│  2089 │\n",
       "│\u001b[2m \u001b[0m\u001b[2m1   \u001b[0m\u001b[2m \u001b[0m│     1 │\n",
       "└──────┴───────┘\n"
      ]
     },
     "metadata": {},
     "output_type": "display_data"
    },
    {
     "data": {
      "text/html": [
       "<pre style=\"white-space:pre;overflow-x:auto;line-height:normal;font-family:Menlo,'DejaVu Sans Mono',consolas,'Courier New',monospace\"><span style=\"font-weight: bold; text-decoration: underline\">Filtered </span><span style=\"color: #800080; text-decoration-color: #800080; font-weight: bold; text-decoration: underline\">Email</span><span style=\"font-weight: bold; text-decoration: underline\">(s):</span>\n",
       "</pre>\n"
      ],
      "text/plain": [
       "\u001b[1;4mFiltered \u001b[0m\u001b[1;4;35mEmail\u001b[0m\u001b[1;4m(\u001b[0m\u001b[1;4ms\u001b[0m\u001b[1;4m)\u001b[0m\u001b[1;4m:\u001b[0m\n"
      ]
     },
     "metadata": {},
     "output_type": "display_data"
    },
    {
     "data": {
      "text/html": [
       "<pre style=\"white-space:pre;overflow-x:auto;line-height:normal;font-family:Menlo,'DejaVu Sans Mono',consolas,'Courier New',monospace\">╭──────────────────────┬──────────────────────┬──────────────────────┬─────────────────────┬──────────────────────╮\n",
       "│<span style=\"color: #800080; text-decoration-color: #800080; font-weight: bold\"> Message-ID           </span>│<span style=\"color: #800080; text-decoration-color: #800080; font-weight: bold\"> From                 </span>│<span style=\"color: #800080; text-decoration-color: #800080; font-weight: bold\"> To                   </span>│<span style=\"color: #800080; text-decoration-color: #800080; font-weight: bold\"> Date                </span>│<span style=\"color: #800080; text-decoration-color: #800080; font-weight: bold\"> Content              </span>│\n",
       "├──────────────────────┼──────────────────────┼──────────────────────┼─────────────────────┼──────────────────────┤\n",
       "│<span style=\"color: #7f7f7f; text-decoration-color: #7f7f7f\"> &lt;6336501.10758411543 </span>│ ('sarah.palmer@enro… │ ('sarah.palmer@enron │<span style=\"color: #7f7f7f; text-decoration-color: #7f7f7f\"> 2002-02-01 14:53:35 </span>│ joint venture enron  │\n",
       "│<span style=\"color: #7f7f7f; text-decoration-color: #7f7f7f\"> 11.JavaMail.evans@th </span>│                      │ .com')               │<span style=\"color: #7f7f7f; text-decoration-color: #7f7f7f\">                     </span>│ meeting belies       │\n",
       "│<span style=\"color: #7f7f7f; text-decoration-color: #7f7f7f\"> yme&gt;                 </span>│                      │                      │<span style=\"color: #7f7f7f; text-decoration-color: #7f7f7f\">                     </span>│ officers claims th e │\n",
       "│<span style=\"color: #7f7f7f; text-decoration-color: #7f7f7f\">                      </span>│                      │                      │<span style=\"color: #7f7f7f; text-decoration-color: #7f7f7f\">                     </span>│ dark minutes show    │\n",
       "│<span style=\"color: #7f7f7f; text-decoration-color: #7f7f7f\">                      </span>│                      │                      │<span style=\"color: #7f7f7f; text-decoration-color: #7f7f7f\">                     </span>│ hearing novel        │\n",
       "│<span style=\"color: #7f7f7f; text-decoration-color: #7f7f7f\">                      </span>│                      │                      │<span style=\"color: #7f7f7f; text-decoration-color: #7f7f7f\">                     </span>│ partnerships         │\n",
       "│<span style=\"color: #7f7f7f; text-decoration-color: #7f7f7f\">                      </span>│                      │                      │<span style=\"color: #7f7f7f; text-decoration-color: #7f7f7f\">                     </span>│ inflated ea rnings   │\n",
       "│<span style=\"color: #7f7f7f; text-decoration-color: #7f7f7f\">                      </span>│                      │                      │<span style=\"color: #7f7f7f; text-decoration-color: #7f7f7f\">                     </span>│ present lay skilling │\n",
       "│<span style=\"color: #7f7f7f; text-decoration-color: #7f7f7f\">                      </span>│                      │                      │<span style=\"color: #7f7f7f; text-decoration-color: #7f7f7f\">                     </span>│ fastow wall street   │\n",
       "│<span style=\"color: #7f7f7f; text-decoration-color: #7f7f7f\">                      </span>│                      │                      │<span style=\"color: #7f7f7f; text-decoration-color: #7f7f7f\">                     </span>│ journal ex enron ceo │\n",
       "│<span style=\"color: #7f7f7f; text-decoration-color: #7f7f7f\">                      </span>│                      │                      │<span style=\"color: #7f7f7f; text-decoration-color: #7f7f7f\">                     </span>│ agrees testify panel │\n",
       "│<span style=\"color: #7f7f7f; text-decoration-color: #7f7f7f\">                      </span>│                      │                      │<span style=\"color: #7f7f7f; text-decoration-color: #7f7f7f\">                     </span>│ energy appearance    │\n",
       "│<span style=\"color: #7f7f7f; text-decoration-color: #7f7f7f\">                      </span>│                      │                      │<span style=\"color: #7f7f7f; text-decoration-color: #7f7f7f\">                     </span>│ skilling called      │\n",
       "│<span style=\"color: #7f7f7f; text-decoration-color: #7f7f7f\">                      </span>│                      │                      │<span style=\"color: #7f7f7f; text-decoration-color: #7f7f7f\">                     </span>│ critical chairman    │\n",
       "│<span style=\"color: #7f7f7f; text-decoration-color: #7f7f7f\">                      </span>│                      │                      │<span style=\"color: #7f7f7f; text-decoration-color: #7f7f7f\">                     </span>│ subcommittee looking │\n",
       "│<span style=\"color: #7f7f7f; text-decoration-color: #7f7f7f\">                      </span>│                      │                      │<span style=\"color: #7f7f7f; text-decoration-color: #7f7f7f\">                     </span>│ firm downfall los    │\n",
       "│<span style=\"color: #7f7f7f; text-decoration-color: #7f7f7f\">                      </span>│                      │                      │<span style=\"color: #7f7f7f; text-decoration-color: #7f7f7f\">                     </span>│ angeles...           │\n",
       "╰──────────────────────┴──────────────────────┴──────────────────────┴─────────────────────┴──────────────────────╯\n",
       "</pre>\n"
      ],
      "text/plain": [
       "╭──────────────────────┬──────────────────────┬──────────────────────┬─────────────────────┬──────────────────────╮\n",
       "│\u001b[1;35m \u001b[0m\u001b[1;35mMessage-ID          \u001b[0m\u001b[1;35m \u001b[0m│\u001b[1;35m \u001b[0m\u001b[1;35mFrom                \u001b[0m\u001b[1;35m \u001b[0m│\u001b[1;35m \u001b[0m\u001b[1;35mTo                  \u001b[0m\u001b[1;35m \u001b[0m│\u001b[1;35m \u001b[0m\u001b[1;35mDate               \u001b[0m\u001b[1;35m \u001b[0m│\u001b[1;35m \u001b[0m\u001b[1;35mContent             \u001b[0m\u001b[1;35m \u001b[0m│\n",
       "├──────────────────────┼──────────────────────┼──────────────────────┼─────────────────────┼──────────────────────┤\n",
       "│\u001b[2m \u001b[0m\u001b[2m<6336501.10758411543\u001b[0m\u001b[2m \u001b[0m│ ('sarah.palmer@enro… │ ('sarah.palmer@enron │\u001b[2m \u001b[0m\u001b[2m2002-02-01 14:53:35\u001b[0m\u001b[2m \u001b[0m│ joint venture enron  │\n",
       "│\u001b[2m \u001b[0m\u001b[2m11.JavaMail.evans@th\u001b[0m\u001b[2m \u001b[0m│                      │ .com')               │\u001b[2m                     \u001b[0m│ meeting belies       │\n",
       "│\u001b[2m \u001b[0m\u001b[2myme>                \u001b[0m\u001b[2m \u001b[0m│                      │                      │\u001b[2m                     \u001b[0m│ officers claims th e │\n",
       "│\u001b[2m                      \u001b[0m│                      │                      │\u001b[2m                     \u001b[0m│ dark minutes show    │\n",
       "│\u001b[2m                      \u001b[0m│                      │                      │\u001b[2m                     \u001b[0m│ hearing novel        │\n",
       "│\u001b[2m                      \u001b[0m│                      │                      │\u001b[2m                     \u001b[0m│ partnerships         │\n",
       "│\u001b[2m                      \u001b[0m│                      │                      │\u001b[2m                     \u001b[0m│ inflated ea rnings   │\n",
       "│\u001b[2m                      \u001b[0m│                      │                      │\u001b[2m                     \u001b[0m│ present lay skilling │\n",
       "│\u001b[2m                      \u001b[0m│                      │                      │\u001b[2m                     \u001b[0m│ fastow wall street   │\n",
       "│\u001b[2m                      \u001b[0m│                      │                      │\u001b[2m                     \u001b[0m│ journal ex enron ceo │\n",
       "│\u001b[2m                      \u001b[0m│                      │                      │\u001b[2m                     \u001b[0m│ agrees testify panel │\n",
       "│\u001b[2m                      \u001b[0m│                      │                      │\u001b[2m                     \u001b[0m│ energy appearance    │\n",
       "│\u001b[2m                      \u001b[0m│                      │                      │\u001b[2m                     \u001b[0m│ skilling called      │\n",
       "│\u001b[2m                      \u001b[0m│                      │                      │\u001b[2m                     \u001b[0m│ critical chairman    │\n",
       "│\u001b[2m                      \u001b[0m│                      │                      │\u001b[2m                     \u001b[0m│ subcommittee looking │\n",
       "│\u001b[2m                      \u001b[0m│                      │                      │\u001b[2m                     \u001b[0m│ firm downfall los    │\n",
       "│\u001b[2m                      \u001b[0m│                      │                      │\u001b[2m                     \u001b[0m│ angeles...           │\n",
       "╰──────────────────────┴──────────────────────┴──────────────────────┴─────────────────────┴──────────────────────╯\n"
      ]
     },
     "metadata": {},
     "output_type": "display_data"
    },
    {
     "ename": "NameError",
     "evalue": "name 'openaikey' is not defined",
     "output_type": "error",
     "traceback": [
      "\u001b[0;31m---------------------------------------------------------------------------\u001b[0m",
      "\u001b[0;31mNameError\u001b[0m                                 Traceback (most recent call last)",
      "Cell \u001b[0;32mIn[4], line 15\u001b[0m\n\u001b[1;32m     12\u001b[0m display_email_table(filtered_emails)\n\u001b[1;32m     14\u001b[0m \u001b[38;5;28;01mfrom\u001b[39;00m \u001b[38;5;21;01mscripts\u001b[39;00m\u001b[38;5;21;01m.\u001b[39;00m\u001b[38;5;21;01memailsummary\u001b[39;00m \u001b[38;5;28;01mimport\u001b[39;00m summarize_text_column_with_openai_chat\n\u001b[0;32m---> 15\u001b[0m summary \u001b[38;5;241m=\u001b[39m summarize_text_column_with_openai_chat( filtered_emails[\u001b[38;5;124m'\u001b[39m\u001b[38;5;124mclean_content\u001b[39m\u001b[38;5;124m'\u001b[39m],\u001b[43mopenaikey\u001b[49m)\n\u001b[1;32m     16\u001b[0m \u001b[38;5;28mprint\u001b[39m(summary)\n\u001b[1;32m     18\u001b[0m \u001b[38;5;66;03m# Combine content for word cloud\u001b[39;00m\n",
      "\u001b[0;31mNameError\u001b[0m: name 'openaikey' is not defined"
     ]
    }
   ],
   "source": [
    "from scripts.emailfx import print_unique_senders,display_flagged_email_count,display_email_table,generate_display_wordcloud\n",
    "# Define search terms and filter rows\n",
    "search_terms = ['sell enron stock']\n",
    "\n",
    "\n",
    "filtered_emails = df[df['clean_content'].str.contains('|'.join(search_terms), na=False)]\n",
    "# Set flag for matching search terms\n",
    "df['flag'] = df['clean_content'].str.contains('|'.join(search_terms), na=False).astype(int)\n",
    "    \n",
    "print_unique_senders(filtered_emails)\n",
    "display_flagged_email_count(df)\n",
    "display_email_table(filtered_emails)\n",
    "\n",
    "# Load the environment variables from the .env file\n",
    "from dotenv import load_dotenv\n",
    "load_dotenv()\n",
    "\n",
    "openaikey = os.environ.get(\"openaikey\")\n",
    "\n",
    "from scripts.emailsummary import summarize_text_column_with_openai_chat\n",
    "summary = summarize_text_column_with_openai_chat( filtered_emails['clean_content'],openaikey)\n",
    "print(summary)\n",
    "\n",
    "# Combine content for word cloud\n",
    "text_for_wordcloud = \" \".join(email for email in filtered_emails['clean_content'].dropna())\n",
    "generate_display_wordcloud(text_for_wordcloud)\n"
   ]
  }
 ],
 "metadata": {
  "kernelspec": {
   "display_name": "fraudenv",
   "language": "python",
   "name": "python3"
  },
  "language_info": {
   "codemirror_mode": {
    "name": "ipython",
    "version": 3
   },
   "file_extension": ".py",
   "mimetype": "text/x-python",
   "name": "python",
   "nbconvert_exporter": "python",
   "pygments_lexer": "ipython3",
   "version": "3.11.2"
  }
 },
 "nbformat": 4,
 "nbformat_minor": 2
}
