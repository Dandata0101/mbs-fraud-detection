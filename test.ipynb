{
 "cells": [
  {
   "cell_type": "code",
   "execution_count": 14,
   "metadata": {},
   "outputs": [
    {
     "data": {
      "text/html": [
       "<pre style=\"white-space:pre;overflow-x:auto;line-height:normal;font-family:Menlo,'DejaVu Sans Mono',consolas,'Courier New',monospace\"><span style=\"font-weight: bold; text-decoration: underline\">Filtered Emails (first few rows):</span>\n",
       "</pre>\n"
      ],
      "text/plain": [
       "\u001b[1;4mFiltered Emails \u001b[0m\u001b[1;4m(\u001b[0m\u001b[1;4mfirst few rows\u001b[0m\u001b[1;4m)\u001b[0m\u001b[1;4m:\u001b[0m\n"
      ]
     },
     "metadata": {},
     "output_type": "display_data"
    },
    {
     "data": {
      "text/html": [
       "<pre style=\"white-space:pre;overflow-x:auto;line-height:normal;font-family:Menlo,'DejaVu Sans Mono',consolas,'Courier New',monospace\">╭────────────┬────────────┬────────────┬────────────┬─────────────────────────────────────────────────────────────╮\n",
       "│<span style=\"color: #800080; text-decoration-color: #800080; font-weight: bold\"> Message-ID </span>│<span style=\"color: #800080; text-decoration-color: #800080; font-weight: bold\"> From       </span>│<span style=\"color: #800080; text-decoration-color: #800080; font-weight: bold\"> To         </span>│<span style=\"color: #800080; text-decoration-color: #800080; font-weight: bold\"> Date       </span>│<span style=\"color: #800080; text-decoration-color: #800080; font-weight: bold\"> Content                                                     </span>│\n",
       "├────────────┼────────────┼────────────┼────────────┼─────────────────────────────────────────────────────────────┤\n",
       "│<span style=\"color: #7f7f7f; text-decoration-color: #7f7f7f\"> &lt;6336501.… </span>│ ('sarah.p… │ ('sarah.p… │<span style=\"color: #7f7f7f; text-decoration-color: #7f7f7f\"> 2002-02-01 </span>│ joint venture enron meeting belies officers claims...       │\n",
       "│<span style=\"color: #7f7f7f; text-decoration-color: #7f7f7f\">            </span>│            │            │<span style=\"color: #7f7f7f; text-decoration-color: #7f7f7f\"> 14:53:35   </span>│                                                             │\n",
       "╰────────────┴────────────┴────────────┴────────────┴─────────────────────────────────────────────────────────────╯\n",
       "</pre>\n"
      ],
      "text/plain": [
       "╭────────────┬────────────┬────────────┬────────────┬─────────────────────────────────────────────────────────────╮\n",
       "│\u001b[1;35m \u001b[0m\u001b[1;35mMessage-ID\u001b[0m\u001b[1;35m \u001b[0m│\u001b[1;35m \u001b[0m\u001b[1;35mFrom      \u001b[0m\u001b[1;35m \u001b[0m│\u001b[1;35m \u001b[0m\u001b[1;35mTo        \u001b[0m\u001b[1;35m \u001b[0m│\u001b[1;35m \u001b[0m\u001b[1;35mDate      \u001b[0m\u001b[1;35m \u001b[0m│\u001b[1;35m \u001b[0m\u001b[1;35mContent                                                    \u001b[0m\u001b[1;35m \u001b[0m│\n",
       "├────────────┼────────────┼────────────┼────────────┼─────────────────────────────────────────────────────────────┤\n",
       "│\u001b[2m \u001b[0m\u001b[2m<6336501.…\u001b[0m\u001b[2m \u001b[0m│ ('sarah.p… │ ('sarah.p… │\u001b[2m \u001b[0m\u001b[2m2002-02-01\u001b[0m\u001b[2m \u001b[0m│ joint venture enron meeting belies officers claims...       │\n",
       "│\u001b[2m            \u001b[0m│            │            │\u001b[2m \u001b[0m\u001b[2m14:53:35  \u001b[0m\u001b[2m \u001b[0m│                                                             │\n",
       "╰────────────┴────────────┴────────────┴────────────┴─────────────────────────────────────────────────────────────╯\n"
      ]
     },
     "metadata": {},
     "output_type": "display_data"
    },
    {
     "data": {
      "text/html": [
       "<pre style=\"white-space:pre;overflow-x:auto;line-height:normal;font-family:Menlo,'DejaVu Sans Mono',consolas,'Courier New',monospace\"><span style=\"font-weight: bold; text-decoration: underline\">Flagged Emails Count:</span>\n",
       "</pre>\n"
      ],
      "text/plain": [
       "\u001b[1;4mFlagged Emails Count:\u001b[0m\n"
      ]
     },
     "metadata": {},
     "output_type": "display_data"
    },
    {
     "data": {
      "text/html": [
       "<pre style=\"white-space:pre;overflow-x:auto;line-height:normal;font-family:Menlo,'DejaVu Sans Mono',consolas,'Courier New',monospace\">┏━━━━━━┳━━━━━━━┓\n",
       "┃<span style=\"color: #800080; text-decoration-color: #800080; font-weight: bold\"> Flag </span>┃<span style=\"color: #800080; text-decoration-color: #800080; font-weight: bold\"> Count </span>┃\n",
       "┡━━━━━━╇━━━━━━━┩\n",
       "│<span style=\"color: #7f7f7f; text-decoration-color: #7f7f7f\"> 0    </span>│  2089 │\n",
       "│<span style=\"color: #7f7f7f; text-decoration-color: #7f7f7f\"> 1    </span>│     1 │\n",
       "└──────┴───────┘\n",
       "</pre>\n"
      ],
      "text/plain": [
       "┏━━━━━━┳━━━━━━━┓\n",
       "┃\u001b[1;35m \u001b[0m\u001b[1;35mFlag\u001b[0m\u001b[1;35m \u001b[0m┃\u001b[1;35m \u001b[0m\u001b[1;35mCount\u001b[0m\u001b[1;35m \u001b[0m┃\n",
       "┡━━━━━━╇━━━━━━━┩\n",
       "│\u001b[2m \u001b[0m\u001b[2m0   \u001b[0m\u001b[2m \u001b[0m│  2089 │\n",
       "│\u001b[2m \u001b[0m\u001b[2m1   \u001b[0m\u001b[2m \u001b[0m│     1 │\n",
       "└──────┴───────┘\n"
      ]
     },
     "metadata": {},
     "output_type": "display_data"
    },
    {
     "data": {
      "text/html": [
       "<pre style=\"white-space:pre;overflow-x:auto;line-height:normal;font-family:Menlo,'DejaVu Sans Mono',consolas,'Courier New',monospace\"><span style=\"font-weight: bold; text-decoration: underline\">Unique Senders in Filtered Emails (</span><span style=\"color: #008080; text-decoration-color: #008080; font-weight: bold; text-decoration: underline\">1</span><span style=\"font-weight: bold; text-decoration: underline\">):</span>\n",
       "</pre>\n"
      ],
      "text/plain": [
       "\u001b[1;4mUnique Senders in Filtered Emails \u001b[0m\u001b[1;4m(\u001b[0m\u001b[1;4;36m1\u001b[0m\u001b[1;4m)\u001b[0m\u001b[1;4m:\u001b[0m\n"
      ]
     },
     "metadata": {},
     "output_type": "display_data"
    },
    {
     "data": {
      "text/html": [
       "<pre style=\"white-space:pre;overflow-x:auto;line-height:normal;font-family:Menlo,'DejaVu Sans Mono',consolas,'Courier New',monospace\">- <span style=\"font-weight: bold\">(</span><span style=\"color: #008000; text-decoration-color: #008000\">'sarah.palmer@enron.com'</span><span style=\"font-weight: bold\">)</span>\n",
       "</pre>\n"
      ],
      "text/plain": [
       "- \u001b[1m(\u001b[0m\u001b[32m'sarah.palmer@enron.com'\u001b[0m\u001b[1m)\u001b[0m\n"
      ]
     },
     "metadata": {},
     "output_type": "display_data"
    }
   ],
   "source": [
    "# Import necessary libraries\n",
    "import pandas as pd\n",
    "import os\n",
    "from rich.console import Console\n",
    "from rich.table import Table\n",
    "from rich import box\n",
    "\n",
    "# Set up the console for rich printing\n",
    "console = Console()\n",
    "\n",
    "# Define file path\n",
    "csv_file_path = os.path.join(os.getcwd(), '01-data/FD_01_enron.csv')\n",
    "\n",
    "# Read CSV file into DataFrame\n",
    "df = pd.read_csv(csv_file_path)\n",
    "\n",
    "# Define search terms\n",
    "search_terms = ['sell enron stock']\n",
    "\n",
    "# Use vectorized string operations to filter rows\n",
    "filtered_emails = df[df['clean_content'].str.contains('|'.join(search_terms), na=False)]\n",
    "\n",
    "# Create a rich table for filtered emails\n",
    "email_table = Table(show_header=True, header_style=\"bold magenta\", box=box.ROUNDED)\n",
    "email_table.add_column(\"Message-ID\", style=\"dim\", width=30)\n",
    "email_table.add_column(\"From\", width=30)\n",
    "email_table.add_column(\"To\", width=30)\n",
    "email_table.add_column(\"Date\", style=\"dim\", width=30)\n",
    "email_table.add_column(\"Content\", overflow=\"fold\", width=80)  \n",
    "for _, row in filtered_emails.head().iterrows():\n",
    "    email_table.add_row(\n",
    "        str(row['Message-ID']),\n",
    "        row['From'],\n",
    "        row['To'],\n",
    "        str(row['Date']),\n",
    "        row['clean_content'] [:100] + \"...\" \n",
    "    )\n",
    "\n",
    "console.print(\"Filtered Emails (first few rows):\", style=\"bold underline\")\n",
    "console.print(email_table)\n",
    "\n",
    "# Create a flag variable for rows matching the search terms\n",
    "df['flag'] = df['clean_content'].str.contains('|'.join(search_terms), na=False).astype(int)\n",
    "\n",
    "# Count and print the values of the flag variable with a descriptive message\n",
    "flag_counts = df['flag'].value_counts()\n",
    "console.print(\"Flagged Emails Count:\", style=\"bold underline\")\n",
    "flag_table = Table(show_header=True, header_style=\"bold magenta\")\n",
    "flag_table.add_column(\"Flag\", style=\"dim\")\n",
    "flag_table.add_column(\"Count\", justify=\"right\")\n",
    "for flag, count in flag_counts.items():\n",
    "    flag_table.add_row(str(flag), str(count))\n",
    "console.print(flag_table)\n",
    "\n",
    "# Function to print unique senders from filtered emails using rich\n",
    "def print_unique_senders(emails_df):\n",
    "    unique_senders = emails_df['From'].dropna().unique()\n",
    "    console.print(f\"Unique Senders in Filtered Emails ({len(unique_senders)}):\", style=\"bold underline\")\n",
    "    for sender in unique_senders:\n",
    "        console.print(f\"- {sender}\")\n",
    "\n",
    "# Print unique senders from emails that match the search terms\n",
    "print_unique_senders(filtered_emails.head())  # Limiting to head() for consistency\n"
   ]
  }
 ],
 "metadata": {
  "kernelspec": {
   "display_name": "fraudenv",
   "language": "python",
   "name": "python3"
  },
  "language_info": {
   "codemirror_mode": {
    "name": "ipython",
    "version": 3
   },
   "file_extension": ".py",
   "mimetype": "text/x-python",
   "name": "python",
   "nbconvert_exporter": "python",
   "pygments_lexer": "ipython3",
   "version": "3.11.2"
  }
 },
 "nbformat": 4,
 "nbformat_minor": 2
}
