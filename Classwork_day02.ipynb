{
 "cells": [
  {
   "cell_type": "markdown",
   "metadata": {},
   "source": [
    "# Day 2 \n",
    "[![Author - DanRamirez](https://img.shields.io/badge/Author-DanRamirez-2ea44f?style=for-the-badge)](https://github.com/Dandata0101)\n",
    "![Python - Version](https://img.shields.io/badge/PYTHON-3.11-red?style=for-the-badge&logo=python&logoColor=white)\n",
    "[![Project Repo](https://img.shields.io/badge/Our_Project_Repo-Visit-blue?style=for-the-badge&logo=github&logoColor=white)](https://github.com/Dandata0101/mbs-fraud-detection)\n",
    "\n"
   ]
  },
  {
   "cell_type": "code",
   "execution_count": 3,
   "metadata": {},
   "outputs": [
    {
     "name": "stdout",
     "output_type": "stream",
     "text": [
      "Row count before sampling: 48744\n",
      "Row count after sampling: 48744\n",
      "Conversion completed. The data has been saved to '/Users/danramirez/mbs-fraud-detection/01-data/FD_02_apl_test.parquet'.\n",
      "Row count before sampling: 307511\n",
      "Row count after sampling: 307511\n",
      "Conversion completed. The data has been saved to '/Users/danramirez/mbs-fraud-detection/01-data/FD_02_apl_train.parquet'.\n",
      "Row count before sampling: 1670214\n",
      "Row count after sampling: 1670214\n",
      "Conversion completed. The data has been saved to '/Users/danramirez/mbs-fraud-detection/01-data/sample_trainingdata.parquet'.\n"
     ]
    }
   ],
   "source": [
    "import os\n",
    "import sys\n",
    "from scripts.csvtopaquet import csv_to_parquet_single_file\n",
    "\n",
    "current_directory = os.getcwd()\n",
    "csv1_file_path = os.path.join(current_directory, '01-data', 'FD_02_apl_test.csv')\n",
    "csv2_file_path = os.path.join(current_directory, '01-data', 'FD_02_apl_train.csv')\n",
    "csv3_file_path = os.path.join(current_directory, '01-data', 'FD_02_previos_appl.csv')\n",
    "\n",
    "output_file_path1 = os.path.join(current_directory, '01-data', 'FD_02_apl_test.parquet')\n",
    "output_file_path2 = os.path.join(current_directory, '01-data', 'FD_02_apl_train.parquet')\n",
    "output_file_path3 = os.path.join(current_directory, '01-data', 'sample_trainingdata.parquet')\n",
    "\n",
    "\n",
    "csv_to_parquet_single_file(csv_file_path=csv1_file_path, output_file_path=output_file_path1, chunksize=100000, sample_rows=None, drop_columns=None)\n",
    "csv_to_parquet_single_file(csv_file_path=csv2_file_path, output_file_path=output_file_path2, chunksize=100000, sample_rows=None, drop_columns=None)\n",
    "csv_to_parquet_single_file(csv_file_path=csv3_file_path, output_file_path=output_file_path3, chunksize=100000, sample_rows=None, drop_columns=None)"
   ]
  }
 ],
 "metadata": {
  "kernelspec": {
   "display_name": "fraudenv",
   "language": "python",
   "name": "python3"
  },
  "language_info": {
   "codemirror_mode": {
    "name": "ipython",
    "version": 3
   },
   "file_extension": ".py",
   "mimetype": "text/x-python",
   "name": "python",
   "nbconvert_exporter": "python",
   "pygments_lexer": "ipython3",
   "version": "3.11.2"
  }
 },
 "nbformat": 4,
 "nbformat_minor": 2
}
